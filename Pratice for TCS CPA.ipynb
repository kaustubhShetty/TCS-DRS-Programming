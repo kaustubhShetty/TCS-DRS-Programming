{
 "cells": [
  {
   "cell_type": "markdown",
   "metadata": {},
   "source": [
    "\n",
    "# Problem Statement\n"
   ]
  },
  {
   "cell_type": "markdown",
   "metadata": {},
   "source": [
    "Create a class Player with below attributes<br>\n",
    "playerName<br>\n",
    "playerCountry<br>\n",
    "playerAge<br>\n",
    "noOfMatches<br>\n",
    "noOfRuns<br>\n",
    "noOfWickets<br>"
   ]
  },
  {
   "cell_type": "markdown",
   "metadata": {},
   "source": [
    "Create a constructor which takes all the above attributes in the same sequence<br>\n",
    "Define another class Team with the below member functions<br>\n",
    "getMinRuns: Which takes list of Player objects as input parameter and  returns the player details who scored Minimum runs<br>\n",
    "getMaxWickets: Which takes list of Player Objects as input parameter and returns the player who took the Maximum wickets<br>"
   ]
  },
  {
   "cell_type": "markdown",
   "metadata": {},
   "source": [
    "Instructions to write main function:<br>\n",
    "a. You would require to write the main section completely, hence please follow the below instructions for the same.<br>\n",
    "b. You would require to write the main program which is inline to the \"sample input description section\" mentioned below and to read the data in the same sequence<br>\n",
    "c. Create the respective objects(Player and Team) with the given sequence of arguments to fulfill the __init__ method as mentioned in requirement, defined in the respective classes referring to the instructions"
   ]
  },
  {
   "cell_type": "markdown",
   "metadata": {},
   "source": [
    "Sample Input:\n",
    "5<br>\n",
    "Sachin<br>\n",
    "India<br>\n",
    "40<br>\n",
    "350<br>\n",
    "15000<br>\n",
    "120<br>\n",
    "Klusnar<br>\n",
    "South Africa<br>\n",
    "37<br>\n",
    "270<br>\n",
    "3000<br>\n",
    "250<br>\n",
    "Dhoni<br>\n",
    "India<br>\n",
    "38<br>\n",
    "345<br>\n",
    "12000<br>\n",
    "0<br>\n",
    "Ricky Pointing<br>\n",
    "Australia<br>\n",
    "42<br>\n",
    "290<br>\n",
    "11000<br>\n",
    "3<br>\n",
    "Dravid<br>\n",
    "India<br>\n",
    "39<br>\n",
    "320<br>\n",
    "11200<br>\n",
    "12<br>"
   ]
  },
  {
   "cell_type": "markdown",
   "metadata": {},
   "source": [
    "Sample Output: <br>\n",
    "Klusnar<br>\n",
    "3000<br>\n",
    "South Africa<br>\n",
    "Klusnar<br>\n",
    "250<br>\n",
    "South Africa<br>"
   ]
  },
  {
   "cell_type": "code",
   "execution_count": 54,
   "metadata": {},
   "outputs": [],
   "source": [
    "class Player:\n",
    "    #parameterized constructor\n",
    "    def __init__(self,playerName,playerCountry,playerAge,noOfMatches,noOfRuns,noOfWickets):\n",
    "        self.playerName = playerName\n",
    "        self.playerCountry = playerCountry\n",
    "        self.playerAge = playerAge\n",
    "        self.noOfMatches = noOfMatches\n",
    "        self.noOfRuns = noOfRuns\n",
    "        self.noOfWickets = noOfWickets"
   ]
  },
  {
   "cell_type": "code",
   "execution_count": 55,
   "metadata": {},
   "outputs": [],
   "source": [
    "class Team:\n",
    "    def getMinRuns(listOfPlayers):\n",
    "        runs=[]\n",
    "        for i in range(0,noOfPlayers):\n",
    "            runs.append(listOfPlayers[i].noOfRuns)\n",
    "        minRunsIndex=runs.index(min(runs))\n",
    "        print(listOfPlayers[minRunsIndex].playerName)\n",
    "        print(listOfPlayers[minRunsIndex].noOfRuns)\n",
    "        print(listOfPlayers[minRunsIndex].playerCountry)\n",
    "    def getMaxWickets(listOfPlayers):\n",
    "        wickets=[]\n",
    "        for i in range(0,noOfPlayers):\n",
    "            wickets.append(listOfPlayers[i].noOfWickets)\n",
    "        maxWicketsIndex = wickets.index(max(wickets))\n",
    "        print(listOfPlayers[maxWicketsIndex].playerName)\n",
    "        print(listOfPlayers[maxWicketsIndex].noOfWickets)\n",
    "        print(listOfPlayers[maxWicketsIndex].playerCountry)"
   ]
  },
  {
   "cell_type": "code",
   "execution_count": 56,
   "metadata": {},
   "outputs": [
    {
     "name": "stdout",
     "output_type": "stream",
     "text": [
      "Enter the number of players5\n",
      "Enter playerNameSachin\n",
      "CountryIndia\n",
      "Age40\n",
      "No of Matches350\n",
      "no of runs15000\n",
      "noOfWickets120\n",
      "Enter playerNameKlusnar\n",
      "CountrySouth Africa\n",
      "Age37\n",
      "No of Matches270\n",
      "no of runs3000\n",
      "noOfWickets250\n",
      "Enter playerNameDhoni\n",
      "CountryIndia\n",
      "Age38\n",
      "No of Matches345\n",
      "no of runs12000\n",
      "noOfWickets0\n",
      "Enter playerNameRicky Pointing\n",
      "CountryAustralia\n",
      "Age42\n",
      "No of Matches290\n",
      "no of runs11000\n",
      "noOfWickets3\n",
      "Enter playerNameDravid\n",
      "CountryIndia\n",
      "Age39\n",
      "No of Matches320\n",
      "no of runs11200\n",
      "noOfWickets12\n",
      "[<__main__.Player object at 0x000001BB0D3D27C8>, <__main__.Player object at 0x000001BB0D3E8F48>, <__main__.Player object at 0x000001BB0D3FCC88>, <__main__.Player object at 0x000001BB0D3FC308>, <__main__.Player object at 0x000001BB0D391E88>]\n",
      "Klusnar\n",
      "3000\n",
      "South Africa\n",
      "Klusnar\n",
      "250\n",
      "South Africa\n"
     ]
    }
   ],
   "source": [
    "if __name__ == \"__main__\":\n",
    "    listOfPlayers = []\n",
    "    noOfPlayers = int(input(\"Enter the number of players\"));\n",
    "    for i in range(0,noOfPlayers):\n",
    "        listOfPlayers.append(Player(input(\"Enter playerName\"),input(\"Country\"),int(input(\"Age\")),int(input(\"No of Matches\")),int(input(\"no of runs\")),int(input(\"noOfWickets\"))))\n",
    "    Team.getMinRuns(listOfPlayers)\n",
    "    Team.getMaxWickets(listOfPlayers)"
   ]
  },
  {
   "cell_type": "code",
   "execution_count": 43,
   "metadata": {},
   "outputs": [],
   "source": [
    "PlayerObject = Player(\"Sachin\",\"India\",40,350,15000,120)"
   ]
  },
  {
   "cell_type": "code",
   "execution_count": 47,
   "metadata": {},
   "outputs": [
    {
     "data": {
      "text/plain": [
       "'Sachin'"
      ]
     },
     "execution_count": 47,
     "metadata": {},
     "output_type": "execute_result"
    }
   ],
   "source": [
    "PlayerObject.playerName"
   ]
  },
  {
   "cell_type": "code",
   "execution_count": null,
   "metadata": {},
   "outputs": [],
   "source": []
  }
 ],
 "metadata": {
  "kernelspec": {
   "display_name": "Python 3",
   "language": "python",
   "name": "python3"
  },
  "language_info": {
   "codemirror_mode": {
    "name": "ipython",
    "version": 3
   },
   "file_extension": ".py",
   "mimetype": "text/x-python",
   "name": "python",
   "nbconvert_exporter": "python",
   "pygments_lexer": "ipython3",
   "version": "3.7.4"
  }
 },
 "nbformat": 4,
 "nbformat_minor": 2
}
